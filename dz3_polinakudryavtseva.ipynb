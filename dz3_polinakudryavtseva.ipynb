{
  "nbformat": 4,
  "nbformat_minor": 0,
  "metadata": {
    "colab": {
      "name": "dz3_polinakudryavtseva.ipynb",
      "provenance": [],
      "collapsed_sections": [],
      "authorship_tag": "ABX9TyNVOSCUQZ9qH2LTYJw0Os+e"
    },
    "kernelspec": {
      "name": "python3",
      "display_name": "Python 3"
    }
  },
  "cells": [
    {
      "cell_type": "code",
      "metadata": {
        "id": "Z1kHeMb6XjMd"
      },
      "source": [
        "import re\n",
        "import numpy as np\n",
        "import pandas as pd\n",
        "from pprint import pprint\n",
        "import collections"
      ],
      "execution_count": 1,
      "outputs": []
    },
    {
      "cell_type": "code",
      "metadata": {
        "id": "qhLef_BGYS-c"
      },
      "source": [
        "# Gensim\n",
        "import gensim\n",
        "import gensim.corpora as corpora\n",
        "from gensim.utils import simple_preprocess\n",
        "from gensim.models import CoherenceModel"
      ],
      "execution_count": 2,
      "outputs": []
    },
    {
      "cell_type": "code",
      "metadata": {
        "id": "QkW33wEZJbuE",
        "outputId": "f49abbea-0e88-4f76-8c3a-ed3411db00d2",
        "colab": {
          "base_uri": "https://localhost:8080/",
          "height": 68
        }
      },
      "source": [
        "import nltk\n",
        "nltk.download('stopwords')"
      ],
      "execution_count": 4,
      "outputs": [
        {
          "output_type": "stream",
          "text": [
            "[nltk_data] Downloading package stopwords to /root/nltk_data...\n",
            "[nltk_data]   Package stopwords is already up-to-date!\n"
          ],
          "name": "stdout"
        },
        {
          "output_type": "execute_result",
          "data": {
            "text/plain": [
              "True"
            ]
          },
          "metadata": {
            "tags": []
          },
          "execution_count": 4
        }
      ]
    },
    {
      "cell_type": "code",
      "metadata": {
        "id": "o7QX3gUUXsQO"
      },
      "source": [
        "import spacy"
      ],
      "execution_count": 5,
      "outputs": []
    },
    {
      "cell_type": "code",
      "metadata": {
        "id": "8KT4fEwTH51U"
      },
      "source": [
        "import pyLDAvis\n",
        "import pyLDAvis.gensim\n",
        "import matplotlib.pyplot as plt\n",
        "%matplotlib inline"
      ],
      "execution_count": 6,
      "outputs": []
    },
    {
      "cell_type": "code",
      "metadata": {
        "id": "C5GLVqckH7wY"
      },
      "source": [
        "import logging\n",
        "logging.basicConfig(format='%(asctime)s : %(levelname)s : %(message)s', level=logging.ERROR)"
      ],
      "execution_count": 7,
      "outputs": []
    },
    {
      "cell_type": "code",
      "metadata": {
        "id": "2p58R8E5H9md"
      },
      "source": [
        "import warnings\n",
        "warnings.filterwarnings(\"ignore\",category=DeprecationWarning)"
      ],
      "execution_count": 8,
      "outputs": []
    },
    {
      "cell_type": "code",
      "metadata": {
        "id": "_shkfoOn5J-_"
      },
      "source": [
        "from nltk.corpus import stopwords\n",
        "stop_words = stopwords.words('english')\n",
        "stop_words.extend(['from', 'subject', 're', 'edu', 'use'])"
      ],
      "execution_count": 9,
      "outputs": []
    },
    {
      "cell_type": "code",
      "metadata": {
        "id": "-yQwKOdh6FFc",
        "outputId": "58004ae5-03c1-4079-9848-9f7a4d4b61cc",
        "colab": {
          "base_uri": "https://localhost:8080/",
          "height": 306
        }
      },
      "source": [
        "df = pd.read_json('https://raw.githubusercontent.com/selva86/datasets/master/newsgroups.json')\n",
        "print(df.target_names.unique())\n",
        "df.head()"
      ],
      "execution_count": 10,
      "outputs": [
        {
          "output_type": "stream",
          "text": [
            "['rec.autos' 'comp.sys.mac.hardware' 'comp.graphics' 'sci.space'\n",
            " 'talk.politics.guns' 'sci.med' 'comp.sys.ibm.pc.hardware'\n",
            " 'comp.os.ms-windows.misc' 'rec.motorcycles' 'talk.religion.misc'\n",
            " 'misc.forsale' 'alt.atheism' 'sci.electronics' 'comp.windows.x'\n",
            " 'rec.sport.hockey' 'rec.sport.baseball' 'soc.religion.christian'\n",
            " 'talk.politics.mideast' 'talk.politics.misc' 'sci.crypt']\n"
          ],
          "name": "stdout"
        },
        {
          "output_type": "execute_result",
          "data": {
            "text/html": [
              "<div>\n",
              "<style scoped>\n",
              "    .dataframe tbody tr th:only-of-type {\n",
              "        vertical-align: middle;\n",
              "    }\n",
              "\n",
              "    .dataframe tbody tr th {\n",
              "        vertical-align: top;\n",
              "    }\n",
              "\n",
              "    .dataframe thead th {\n",
              "        text-align: right;\n",
              "    }\n",
              "</style>\n",
              "<table border=\"1\" class=\"dataframe\">\n",
              "  <thead>\n",
              "    <tr style=\"text-align: right;\">\n",
              "      <th></th>\n",
              "      <th>content</th>\n",
              "      <th>target</th>\n",
              "      <th>target_names</th>\n",
              "    </tr>\n",
              "  </thead>\n",
              "  <tbody>\n",
              "    <tr>\n",
              "      <th>0</th>\n",
              "      <td>From: lerxst@wam.umd.edu (where's my thing)\\nS...</td>\n",
              "      <td>7</td>\n",
              "      <td>rec.autos</td>\n",
              "    </tr>\n",
              "    <tr>\n",
              "      <th>1</th>\n",
              "      <td>From: guykuo@carson.u.washington.edu (Guy Kuo)...</td>\n",
              "      <td>4</td>\n",
              "      <td>comp.sys.mac.hardware</td>\n",
              "    </tr>\n",
              "    <tr>\n",
              "      <th>2</th>\n",
              "      <td>From: twillis@ec.ecn.purdue.edu (Thomas E Will...</td>\n",
              "      <td>4</td>\n",
              "      <td>comp.sys.mac.hardware</td>\n",
              "    </tr>\n",
              "    <tr>\n",
              "      <th>3</th>\n",
              "      <td>From: jgreen@amber (Joe Green)\\nSubject: Re: W...</td>\n",
              "      <td>1</td>\n",
              "      <td>comp.graphics</td>\n",
              "    </tr>\n",
              "    <tr>\n",
              "      <th>4</th>\n",
              "      <td>From: jcm@head-cfa.harvard.edu (Jonathan McDow...</td>\n",
              "      <td>14</td>\n",
              "      <td>sci.space</td>\n",
              "    </tr>\n",
              "  </tbody>\n",
              "</table>\n",
              "</div>"
            ],
            "text/plain": [
              "                                             content  ...           target_names\n",
              "0  From: lerxst@wam.umd.edu (where's my thing)\\nS...  ...              rec.autos\n",
              "1  From: guykuo@carson.u.washington.edu (Guy Kuo)...  ...  comp.sys.mac.hardware\n",
              "2  From: twillis@ec.ecn.purdue.edu (Thomas E Will...  ...  comp.sys.mac.hardware\n",
              "3  From: jgreen@amber (Joe Green)\\nSubject: Re: W...  ...          comp.graphics\n",
              "4  From: jcm@head-cfa.harvard.edu (Jonathan McDow...  ...              sci.space\n",
              "\n",
              "[5 rows x 3 columns]"
            ]
          },
          "metadata": {
            "tags": []
          },
          "execution_count": 10
        }
      ]
    },
    {
      "cell_type": "code",
      "metadata": {
        "id": "TLyUS4XF6m8X"
      },
      "source": [
        "# Convert to list\n",
        "data = df.content.values.tolist()\n",
        "\n",
        "# Remove Emails\n",
        "data = [re.sub('\\S*@\\S*\\s?', '', sent) for sent in data]\n",
        "\n",
        "# Remove new line characters\n",
        "data = [re.sub('\\s+', ' ', sent) for sent in data]\n",
        "\n",
        "# Remove distracting single quotes\n",
        "data = [re.sub(\"\\'\", \"\", sent) for sent in data]"
      ],
      "execution_count": 11,
      "outputs": []
    },
    {
      "cell_type": "code",
      "metadata": {
        "id": "AHhFHujs6eIL"
      },
      "source": [
        "#tokenize\n",
        "\n",
        "def sent_to_words(sentences):\n",
        "    for sentence in sentences:\n",
        "        yield(gensim.utils.simple_preprocess(str(sentence), deacc=True))  # deacc=True removes punctuations\n",
        "\n",
        "data_words = list(sent_to_words(data))"
      ],
      "execution_count": 12,
      "outputs": []
    },
    {
      "cell_type": "code",
      "metadata": {
        "id": "17xIgpYPgKec",
        "outputId": "408f17ab-7abe-413b-e249-a1849af6c396",
        "colab": {
          "base_uri": "https://localhost:8080/",
          "height": 51
        }
      },
      "source": [
        "# Faster way to get a sentence clubbed as a trigram/bigram\n",
        "bigram_mod = gensim.models.phrases.Phraser(bigram)\n",
        "trigram_mod = gensim.models.phrases.Phraser(trigram)"
      ],
      "execution_count": 13,
      "outputs": [
        {
          "output_type": "stream",
          "text": [
            "/usr/local/lib/python3.6/dist-packages/gensim/models/phrases.py:598: UserWarning: For a faster implementation, use the gensim.models.phrases.Phraser class\n",
            "  warnings.warn(\"For a faster implementation, use the gensim.models.phrases.Phraser class\")\n"
          ],
          "name": "stderr"
        }
      ]
    },
    {
      "cell_type": "code",
      "metadata": {
        "id": "fnLORJOw6rTG"
      },
      "source": [
        "def remove_stopwords(texts):\n",
        "    return [[word for word in simple_preprocess(str(doc)) if word not in stop_words] for doc in texts]"
      ],
      "execution_count": 14,
      "outputs": []
    },
    {
      "cell_type": "code",
      "metadata": {
        "id": "Y02TAZRGqV0T"
      },
      "source": [
        "def make_bigrams(texts):\n",
        "    return [bigram_mod[doc] for doc in texts]"
      ],
      "execution_count": 15,
      "outputs": []
    },
    {
      "cell_type": "code",
      "metadata": {
        "id": "gfhgl7xsqX7f"
      },
      "source": [
        "def make_trigrams(texts):\n",
        "    return [trigram_mod[bigram_mod[doc]] for doc in texts]"
      ],
      "execution_count": 16,
      "outputs": []
    },
    {
      "cell_type": "code",
      "metadata": {
        "id": "0JkixRT2fvKD"
      },
      "source": [
        "def lemmatization(texts, allowed_postags=['NOUN', 'ADJ', 'VERB', 'ADV']):\n",
        "    \"\"\"https://spacy.io/api/annotation\"\"\"\n",
        "    texts_out = []\n",
        "    for sent in texts:\n",
        "        doc = nlp(\" \".join(sent)) \n",
        "        texts_out.append([token.lemma_ for token in doc if token.pos_ in allowed_postags])\n",
        "    return texts_out"
      ],
      "execution_count": 17,
      "outputs": []
    },
    {
      "cell_type": "code",
      "metadata": {
        "id": "_IuSt_kbrB1o"
      },
      "source": [
        "# Remove Stop Words\n",
        "data_words_nostops = remove_stopwords(data_words)"
      ],
      "execution_count": 18,
      "outputs": []
    },
    {
      "cell_type": "code",
      "metadata": {
        "id": "rho8KtsurDVF"
      },
      "source": [
        "# Form Bigrams\n",
        "data_words_bigrams = make_bigrams(data_words_nostops)"
      ],
      "execution_count": 19,
      "outputs": []
    },
    {
      "cell_type": "code",
      "metadata": {
        "id": "sje6IhutrFc8"
      },
      "source": [
        "# Initialize spacy 'en' model, keeping only tagger component (for efficiency)\n",
        "# python3 -m spacy download en\n",
        "nlp = spacy.load('en', disable=['parser', 'ner'])"
      ],
      "execution_count": 20,
      "outputs": []
    },
    {
      "cell_type": "code",
      "metadata": {
        "id": "nsY2qxk5KSdB"
      },
      "source": [
        "# Do lemmatization keeping only noun, adj, vb, adv\n",
        "data_lemmatized = lemmatization(data_words_bigrams, allowed_postags=['NOUN', 'ADJ', 'VERB', 'ADV'])"
      ],
      "execution_count": 22,
      "outputs": []
    },
    {
      "cell_type": "code",
      "metadata": {
        "id": "PMRX0Bpx66fR"
      },
      "source": [
        "# Create Dictionary\n",
        "id2word = corpora.Dictionary(data_lemmatized)"
      ],
      "execution_count": 23,
      "outputs": []
    },
    {
      "cell_type": "code",
      "metadata": {
        "id": "3tbj7sHtsiNK"
      },
      "source": [
        "# Create Corpus\n",
        "texts = data_lemmatized"
      ],
      "execution_count": 24,
      "outputs": []
    },
    {
      "cell_type": "code",
      "metadata": {
        "id": "TTsyMNBkskeU"
      },
      "source": [
        "# Term Document Frequency\n",
        "corpus = [id2word.doc2bow(text) for text in texts]"
      ],
      "execution_count": 25,
      "outputs": []
    },
    {
      "cell_type": "code",
      "metadata": {
        "id": "_23oc4_8LQqb"
      },
      "source": [
        "def bestcoherence(topics: list):\n",
        "    coherences = []\n",
        "    for topic in topics:\n",
        "        print(f'У топика номер ={topic}')\n",
        "        lda_model = gensim.models.ldamodel.LdaModel(corpus=corpus,\n",
        "                                                    id2word=id2word,\n",
        "                                                    num_topics=topic, \n",
        "                                                    random_state=100,\n",
        "                                                    update_every=1,\n",
        "                                                    chunksize=100,\n",
        "                                                    passes=10,\n",
        "                                                    alpha='auto',\n",
        "                                                    per_word_topics=True)\n",
        "        coherence_model_lda = CoherenceModel(model=lda_model, \n",
        "                                             texts=data_lemmatized, \n",
        "                                             dictionary=id2word, \n",
        "                                             coherence='c_v')\n",
        "        coherence_lda = coherence_model_lda.get_coherence()\n",
        "        print(f' такой результат {coherence_lda}')\n",
        "        print()\n",
        "        coherences.append((topic, coherence_lda))\n",
        "        \n",
        "    coherences = sorted(coherences)\n",
        "    print(f'Лучший результат: {coherences[0][1]} with {coherences[0][0]} topics')\n",
        "    return coherences"
      ],
      "execution_count": 32,
      "outputs": []
    },
    {
      "cell_type": "code",
      "metadata": {
        "id": "1YsSmzvNMMgz",
        "outputId": "e5a939ac-865a-4a75-dcde-e4b94226b267",
        "colab": {
          "base_uri": "https://localhost:8080/",
          "height": 493
        }
      },
      "source": [
        "topics = [10, 15, 17, 19, 20, 23, 25, 27, 30]\n",
        "\n",
        "best_number_of_topics = bestcoherence(topics)"
      ],
      "execution_count": 33,
      "outputs": [
        {
          "output_type": "stream",
          "text": [
            "У топика номер =10\n",
            " такой результат 0.4973497938960755\n",
            "\n",
            "У топика номер =15\n",
            " такой результат 0.44582805103485196\n",
            "\n",
            "У топика номер =17\n",
            " такой результат 0.4368353826625469\n",
            "\n",
            "У топика номер =19\n",
            " такой результат 0.4722627871932223\n",
            "\n",
            "У топика номер =20\n",
            " такой результат 0.4392813747423439\n",
            "\n",
            "У топика номер =23\n",
            " такой результат 0.45151831379157337\n",
            "\n",
            "У топика номер =25\n",
            " такой результат 0.431570330596339\n",
            "\n",
            "У топика номер =27\n",
            " такой результат 0.4455289540437199\n",
            "\n",
            "У топика номер =30\n",
            " такой результат 0.45269036287404113\n",
            "\n",
            "Лучший результат: 0.4973497938960755 with 10 topics\n"
          ],
          "name": "stdout"
        }
      ]
    },
    {
      "cell_type": "code",
      "metadata": {
        "id": "usW2-l-7UVN_"
      },
      "source": [
        "lda_model = gensim.models.ldamodel.LdaModel(corpus=corpus,\n",
        "                                                    id2word=id2word,\n",
        "                                                    num_topics=10, \n",
        "                                                    random_state=100,\n",
        "                                                    update_every=1,\n",
        "                                                    chunksize=100,\n",
        "                                                    passes=10,\n",
        "                                                    alpha='auto',\n",
        "                                                    per_word_topics=True)"
      ],
      "execution_count": 34,
      "outputs": []
    },
    {
      "cell_type": "code",
      "metadata": {
        "id": "nZcDhfGXmcDm"
      },
      "source": [
        "topic_counter = collections.Counter()\n",
        "words = []\n",
        "topics = lda_model.print_topics()\n",
        "topic_words = {}\n",
        "dic_for_df = []\n",
        "for text in texts:\n",
        "  for i in text:\n",
        "    for topic in topics:\n",
        "      topic_words = {}\n",
        "      for elements in topic: \n",
        "        if elements is int:\n",
        "          id_topic = elements\n",
        "        if type(elements) is not int:\n",
        "          weights_words = re.findall(r'([0-9]\\.[0-9]*)\\*\\\"(\\w*)\\\"', str(elements))\n",
        "          for j in weights_words:\n",
        "            topic_words.update({j[1]:float(j[0])})\n",
        "      if i in topic_words.keys():\n",
        "        weight = topic_words.setdefault(i)\n",
        "        topic_counter[topic[0]] += weight\n",
        "        most = topic_counter.most_common(1)[0][0]\n",
        "  dic_for_df.append({'text': text, 'topic': most})"
      ],
      "execution_count": 37,
      "outputs": []
    },
    {
      "cell_type": "code",
      "metadata": {
        "id": "WfarTG0wWFka",
        "outputId": "3d5cfdeb-97ea-4ae4-8423-6f6179fac8d6",
        "colab": {
          "base_uri": "https://localhost:8080/",
          "height": 419
        }
      },
      "source": [
        "topics_texts_df = pd.DataFrame(dic_for_df).fillna('')\n",
        "topics_texts_df"
      ],
      "execution_count": 40,
      "outputs": [
        {
          "output_type": "execute_result",
          "data": {
            "text/html": [
              "<div>\n",
              "<style scoped>\n",
              "    .dataframe tbody tr th:only-of-type {\n",
              "        vertical-align: middle;\n",
              "    }\n",
              "\n",
              "    .dataframe tbody tr th {\n",
              "        vertical-align: top;\n",
              "    }\n",
              "\n",
              "    .dataframe thead th {\n",
              "        text-align: right;\n",
              "    }\n",
              "</style>\n",
              "<table border=\"1\" class=\"dataframe\">\n",
              "  <thead>\n",
              "    <tr style=\"text-align: right;\">\n",
              "      <th></th>\n",
              "      <th>text</th>\n",
              "      <th>topic</th>\n",
              "    </tr>\n",
              "  </thead>\n",
              "  <tbody>\n",
              "    <tr>\n",
              "      <th>0</th>\n",
              "      <td>[where, thing, car, nntp_poste, host, park, li...</td>\n",
              "      <td>3</td>\n",
              "    </tr>\n",
              "    <tr>\n",
              "      <th>1</th>\n",
              "      <td>[poll, final, call, summary, final, call, cloc...</td>\n",
              "      <td>3</td>\n",
              "    </tr>\n",
              "    <tr>\n",
              "      <th>2</th>\n",
              "      <td>[engineering, computer, network, distribution_...</td>\n",
              "      <td>6</td>\n",
              "    </tr>\n",
              "    <tr>\n",
              "      <th>3</th>\n",
              "      <td>[division, line, host, write, write, article, ...</td>\n",
              "      <td>7</td>\n",
              "    </tr>\n",
              "    <tr>\n",
              "      <th>4</th>\n",
              "      <td>[question, distribution, article, write, clear...</td>\n",
              "      <td>7</td>\n",
              "    </tr>\n",
              "    <tr>\n",
              "      <th>...</th>\n",
              "      <td>...</td>\n",
              "      <td>...</td>\n",
              "    </tr>\n",
              "    <tr>\n",
              "      <th>11309</th>\n",
              "      <td>[scan, city, reply, line, consultation, cheap,...</td>\n",
              "      <td>7</td>\n",
              "    </tr>\n",
              "    <tr>\n",
              "      <th>11310</th>\n",
              "      <td>[screen, medford, old, problem, screen, blank,...</td>\n",
              "      <td>7</td>\n",
              "    </tr>\n",
              "    <tr>\n",
              "      <th>11311</th>\n",
              "      <td>[este, mount, mail, group, line, instal, try, ...</td>\n",
              "      <td>7</td>\n",
              "    </tr>\n",
              "    <tr>\n",
              "      <th>11312</th>\n",
              "      <td>[line, article, write, boy, embarasse, trivial...</td>\n",
              "      <td>7</td>\n",
              "    </tr>\n",
              "    <tr>\n",
              "      <th>11313</th>\n",
              "      <td>[steal, organization, line, distribution_usa, ...</td>\n",
              "      <td>7</td>\n",
              "    </tr>\n",
              "  </tbody>\n",
              "</table>\n",
              "<p>11314 rows × 2 columns</p>\n",
              "</div>"
            ],
            "text/plain": [
              "                                                    text  topic\n",
              "0      [where, thing, car, nntp_poste, host, park, li...      3\n",
              "1      [poll, final, call, summary, final, call, cloc...      3\n",
              "2      [engineering, computer, network, distribution_...      6\n",
              "3      [division, line, host, write, write, article, ...      7\n",
              "4      [question, distribution, article, write, clear...      7\n",
              "...                                                  ...    ...\n",
              "11309  [scan, city, reply, line, consultation, cheap,...      7\n",
              "11310  [screen, medford, old, problem, screen, blank,...      7\n",
              "11311  [este, mount, mail, group, line, instal, try, ...      7\n",
              "11312  [line, article, write, boy, embarasse, trivial...      7\n",
              "11313  [steal, organization, line, distribution_usa, ...      7\n",
              "\n",
              "[11314 rows x 2 columns]"
            ]
          },
          "metadata": {
            "tags": []
          },
          "execution_count": 40
        }
      ]
    },
    {
      "cell_type": "code",
      "metadata": {
        "id": "B-NGXw0gWR0C"
      },
      "source": [
        "unique_topics = []\n",
        "for i in topics_texts_df['topic'].unique():\n",
        "  unique_topics.append(i)"
      ],
      "execution_count": 56,
      "outputs": []
    },
    {
      "cell_type": "code",
      "metadata": {
        "id": "vMNY-HBrYKKF",
        "outputId": "82dadd58-6546-4865-f229-7a311712363e",
        "colab": {
          "base_uri": "https://localhost:8080/",
          "height": 34
        }
      },
      "source": [
        "print(unique_topics)"
      ],
      "execution_count": 61,
      "outputs": [
        {
          "output_type": "stream",
          "text": [
            "[3, 6, 7, 4]\n"
          ],
          "name": "stdout"
        }
      ]
    },
    {
      "cell_type": "code",
      "metadata": {
        "id": "iUqIa8a9cwHg"
      },
      "source": [
        "dic_for_df2 = []"
      ],
      "execution_count": 136,
      "outputs": []
    },
    {
      "cell_type": "code",
      "metadata": {
        "id": "axZK0Ih1kp21"
      },
      "source": [
        "def findtdidf(topic):\n",
        "  texts_count = len(topics_texts_df[topics_texts_df['topic']==topic]['text'])\n",
        "  for text in topics_texts_df[topics_texts_df['topic']==topic]['text'].values:\n",
        "    tfidfList = []\n",
        "    tfidfDict = {}\n",
        "    text_len = len(text)\n",
        "    for word in text:\n",
        "      word_count = len(re.findall(r'{}'.format(word), str(text)))\n",
        "      tf = word_count / text_len\n",
        "      texts_with_word_count = collections.Counter()\n",
        "      for text in topics_texts_df[topics_texts_df['topic']==topic]['text'].values:\n",
        "        if word in text:\n",
        "          texts_with_word_count[word] += 1\n",
        "      idf = texts_count / texts_with_word_count[word]\n",
        "      tf_idf = tf * idf\n",
        "      tfidfDict.update({word: tf_idf})\n",
        "    newdict = sorted(tfidfDict, key=tfidfDict.get, reverse=True)\n",
        "    bestwords = list(newdict)[:5]\n",
        "  dic_for_df2.append({'topics': topic, 'texts': text, 'tf-idf_best-words': bestwords})\n",
        "  return dic_for_df2"
      ],
      "execution_count": 138,
      "outputs": []
    },
    {
      "cell_type": "code",
      "metadata": {
        "id": "kA6oHU-9kkWy"
      },
      "source": [
        "onedf = findtdidf(3)"
      ],
      "execution_count": 139,
      "outputs": []
    },
    {
      "cell_type": "code",
      "metadata": {
        "id": "9n2az3yskY_s"
      },
      "source": [
        "newdf = pd.DataFrame(onedf).fillna('')"
      ],
      "execution_count": 140,
      "outputs": []
    },
    {
      "cell_type": "code",
      "metadata": {
        "id": "HaC5nenhkxAU"
      },
      "source": [
        "newdf.append(twodf)"
      ],
      "execution_count": null,
      "outputs": []
    },
    {
      "cell_type": "code",
      "metadata": {
        "id": "erRqHtaik76u",
        "outputId": "7c049260-c768-4aeb-b612-11cb7634faca",
        "colab": {
          "base_uri": "https://localhost:8080/",
          "height": 80
        }
      },
      "source": [
        "newdf"
      ],
      "execution_count": 142,
      "outputs": [
        {
          "output_type": "execute_result",
          "data": {
            "text/html": [
              "<div>\n",
              "<style scoped>\n",
              "    .dataframe tbody tr th:only-of-type {\n",
              "        vertical-align: middle;\n",
              "    }\n",
              "\n",
              "    .dataframe tbody tr th {\n",
              "        vertical-align: top;\n",
              "    }\n",
              "\n",
              "    .dataframe thead th {\n",
              "        text-align: right;\n",
              "    }\n",
              "</style>\n",
              "<table border=\"1\" class=\"dataframe\">\n",
              "  <thead>\n",
              "    <tr style=\"text-align: right;\">\n",
              "      <th></th>\n",
              "      <th>topics</th>\n",
              "      <th>texts</th>\n",
              "      <th>tf-idf_best-words</th>\n",
              "    </tr>\n",
              "  </thead>\n",
              "  <tbody>\n",
              "    <tr>\n",
              "      <th>0</th>\n",
              "      <td>3</td>\n",
              "      <td>[poll, final, call, summary, final, call, cloc...</td>\n",
              "      <td>[poll, clock, final, upgrade, experience]</td>\n",
              "    </tr>\n",
              "  </tbody>\n",
              "</table>\n",
              "</div>"
            ],
            "text/plain": [
              "   topics  ...                          tf-idf_best-words\n",
              "0       3  ...  [poll, clock, final, upgrade, experience]\n",
              "\n",
              "[1 rows x 3 columns]"
            ]
          },
          "metadata": {
            "tags": []
          },
          "execution_count": 142
        }
      ]
    },
    {
      "cell_type": "markdown",
      "metadata": {
        "id": "oCx2m2L0ja5Q"
      },
      "source": [
        "Работа coherence score:\n",
        "- проходит по частотным словам в топике\n",
        "- считается частота появления двух слов из текстов рядом друг с другом\n",
        "- эта частота используются для подсчета NPMI для пар высокочастотных слов, отсюда получаются векторы слов\n",
        "- потом по самым вероятным словам подсчитывается косинусная близость между их векторами и сумма всех этих векторов\n",
        "- coherence - среднее значение всех косинусных близостей."
      ]
    }
  ]
}